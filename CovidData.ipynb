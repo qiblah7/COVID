{
 "cells": [
  {
   "cell_type": "code",
   "execution_count": 1,
   "id": "0345a6a9",
   "metadata": {},
   "outputs": [],
   "source": [
    "import numpy as np\n",
    "import pandas as pd"
   ]
  },
  {
   "cell_type": "markdown",
   "id": "68890ea0",
   "metadata": {},
   "source": [
    "Read Database"
   ]
  },
  {
   "cell_type": "code",
   "execution_count": 2,
   "id": "1905db15",
   "metadata": {},
   "outputs": [],
   "source": [
    "covidData_csv = pd.read_csv('D:\\Self_work\\Covid_Data.csv')"
   ]
  },
  {
   "cell_type": "markdown",
   "id": "4834235c",
   "metadata": {},
   "source": [
    "Data Cleaning"
   ]
  },
  {
   "cell_type": "code",
   "execution_count": 3,
   "id": "7082abcc",
   "metadata": {},
   "outputs": [],
   "source": [
    "covidData_csv['patient_no'] = covidData_csv.index"
   ]
  },
  {
   "cell_type": "code",
   "execution_count": 4,
   "id": "ca9abfde",
   "metadata": {},
   "outputs": [
    {
     "name": "stdout",
     "output_type": "stream",
     "text": [
      "<class 'pandas.core.frame.DataFrame'>\n",
      "RangeIndex: 1048575 entries, 0 to 1048574\n",
      "Data columns (total 22 columns):\n",
      " #   Column                Non-Null Count    Dtype \n",
      "---  ------                --------------    ----- \n",
      " 0   USMER                 1048575 non-null  int64 \n",
      " 1   MEDICAL_UNIT          1048575 non-null  int64 \n",
      " 2   SEX                   1048575 non-null  int64 \n",
      " 3   PATIENT_TYPE          1048575 non-null  int64 \n",
      " 4   DATE_DIED             1048575 non-null  object\n",
      " 5   INTUBED               1048575 non-null  int64 \n",
      " 6   PNEUMONIA             1048575 non-null  int64 \n",
      " 7   AGE                   1048575 non-null  int64 \n",
      " 8   PREGNANT              1048575 non-null  int64 \n",
      " 9   DIABETES              1048575 non-null  int64 \n",
      " 10  COPD                  1048575 non-null  int64 \n",
      " 11  ASTHMA                1048575 non-null  int64 \n",
      " 12  INMSUPR               1048575 non-null  int64 \n",
      " 13  HIPERTENSION          1048575 non-null  int64 \n",
      " 14  OTHER_DISEASE         1048575 non-null  int64 \n",
      " 15  CARDIOVASCULAR        1048575 non-null  int64 \n",
      " 16  OBESITY               1048575 non-null  int64 \n",
      " 17  RENAL_CHRONIC         1048575 non-null  int64 \n",
      " 18  TOBACCO               1048575 non-null  int64 \n",
      " 19  CLASIFFICATION_FINAL  1048575 non-null  int64 \n",
      " 20  ICU                   1048575 non-null  int64 \n",
      " 21  patient_no            1048575 non-null  int64 \n",
      "dtypes: int64(21), object(1)\n",
      "memory usage: 176.0+ MB\n"
     ]
    }
   ],
   "source": [
    "covidData_csv.info()"
   ]
  },
  {
   "cell_type": "markdown",
   "id": "8c155532",
   "metadata": {},
   "source": [
    "Renaming some of the columns"
   ]
  },
  {
   "cell_type": "code",
   "execution_count": 5,
   "id": "f0ba936a",
   "metadata": {},
   "outputs": [],
   "source": [
    "covidData_csv.rename({'patient_no': 'PATIENT_NO', 'HIPERTENSION': 'HYPERTENSION'}, axis=1, inplace=True)"
   ]
  },
  {
   "cell_type": "code",
   "execution_count": 6,
   "id": "266e23c9",
   "metadata": {},
   "outputs": [],
   "source": [
    "covidData_csv.rename({'CLASIFFICATION_FINAL': 'CLASSIFICATION_FINAL'}, axis=1, inplace=True)"
   ]
  },
  {
   "cell_type": "code",
   "execution_count": 7,
   "id": "18663700",
   "metadata": {},
   "outputs": [
    {
     "name": "stdout",
     "output_type": "stream",
     "text": [
      "<class 'pandas.core.frame.DataFrame'>\n",
      "RangeIndex: 1048575 entries, 0 to 1048574\n",
      "Data columns (total 22 columns):\n",
      " #   Column                Non-Null Count    Dtype \n",
      "---  ------                --------------    ----- \n",
      " 0   USMER                 1048575 non-null  int64 \n",
      " 1   MEDICAL_UNIT          1048575 non-null  int64 \n",
      " 2   SEX                   1048575 non-null  int64 \n",
      " 3   PATIENT_TYPE          1048575 non-null  int64 \n",
      " 4   DATE_DIED             1048575 non-null  object\n",
      " 5   INTUBED               1048575 non-null  int64 \n",
      " 6   PNEUMONIA             1048575 non-null  int64 \n",
      " 7   AGE                   1048575 non-null  int64 \n",
      " 8   PREGNANT              1048575 non-null  int64 \n",
      " 9   DIABETES              1048575 non-null  int64 \n",
      " 10  COPD                  1048575 non-null  int64 \n",
      " 11  ASTHMA                1048575 non-null  int64 \n",
      " 12  INMSUPR               1048575 non-null  int64 \n",
      " 13  HYPERTENSION          1048575 non-null  int64 \n",
      " 14  OTHER_DISEASE         1048575 non-null  int64 \n",
      " 15  CARDIOVASCULAR        1048575 non-null  int64 \n",
      " 16  OBESITY               1048575 non-null  int64 \n",
      " 17  RENAL_CHRONIC         1048575 non-null  int64 \n",
      " 18  TOBACCO               1048575 non-null  int64 \n",
      " 19  CLASSIFICATION_FINAL  1048575 non-null  int64 \n",
      " 20  ICU                   1048575 non-null  int64 \n",
      " 21  PATIENT_NO            1048575 non-null  int64 \n",
      "dtypes: int64(21), object(1)\n",
      "memory usage: 176.0+ MB\n"
     ]
    }
   ],
   "source": [
    "covidData_csv.info()"
   ]
  },
  {
   "cell_type": "code",
   "execution_count": 8,
   "id": "3890b875",
   "metadata": {},
   "outputs": [],
   "source": [
    "ICU_values = covidData_csv['ICU'].value_counts()"
   ]
  },
  {
   "cell_type": "code",
   "execution_count": 9,
   "id": "8784fd63",
   "metadata": {},
   "outputs": [
    {
     "data": {
      "text/plain": [
       "97    848544\n",
       "2     175685\n",
       "1      16858\n",
       "99      7488\n",
       "Name: ICU, dtype: int64"
      ]
     },
     "execution_count": 9,
     "metadata": {},
     "output_type": "execute_result"
    }
   ],
   "source": [
    "ICU_values"
   ]
  },
  {
   "cell_type": "code",
   "execution_count": 10,
   "id": "ed384a45",
   "metadata": {},
   "outputs": [
    {
     "data": {
      "text/plain": [
       "81.6376510979186"
      ]
     },
     "execution_count": 10,
     "metadata": {},
     "output_type": "execute_result"
    }
   ],
   "source": [
    "((ICU_values[97] + ICU_values[99])/len(covidData_csv)) * 100"
   ]
  },
  {
   "cell_type": "code",
   "execution_count": 11,
   "id": "687c78c3",
   "metadata": {},
   "outputs": [],
   "source": [
    "intubed_values = covidData_csv['INTUBED'].value_counts()"
   ]
  },
  {
   "cell_type": "code",
   "execution_count": 12,
   "id": "0fc08add",
   "metadata": {},
   "outputs": [
    {
     "data": {
      "text/plain": [
       "97    848544\n",
       "2     159050\n",
       "1      33656\n",
       "99      7325\n",
       "Name: INTUBED, dtype: int64"
      ]
     },
     "execution_count": 12,
     "metadata": {},
     "output_type": "execute_result"
    }
   ],
   "source": [
    "intubed_values"
   ]
  },
  {
   "cell_type": "code",
   "execution_count": 13,
   "id": "73256705",
   "metadata": {},
   "outputs": [
    {
     "data": {
      "text/plain": [
       "81.62210619173639"
      ]
     },
     "execution_count": 13,
     "metadata": {},
     "output_type": "execute_result"
    }
   ],
   "source": [
    "((intubed_values[97] + intubed_values[99])/len(covidData_csv)) * 100"
   ]
  },
  {
   "cell_type": "markdown",
   "id": "f631b8f6",
   "metadata": {},
   "source": [
    "81% of 'INTUBED' and 'ICU' columns are missing. The columns will be dropped."
   ]
  },
  {
   "cell_type": "code",
   "execution_count": 14,
   "id": "70e8f6b9",
   "metadata": {},
   "outputs": [],
   "source": [
    "covidData_csv.drop(['ICU','INTUBED'], axis = 1, inplace= True)"
   ]
  },
  {
   "cell_type": "code",
   "execution_count": 15,
   "id": "4e2fb2de",
   "metadata": {},
   "outputs": [
    {
     "name": "stdout",
     "output_type": "stream",
     "text": [
      "<class 'pandas.core.frame.DataFrame'>\n",
      "RangeIndex: 1048575 entries, 0 to 1048574\n",
      "Data columns (total 20 columns):\n",
      " #   Column                Non-Null Count    Dtype \n",
      "---  ------                --------------    ----- \n",
      " 0   USMER                 1048575 non-null  int64 \n",
      " 1   MEDICAL_UNIT          1048575 non-null  int64 \n",
      " 2   SEX                   1048575 non-null  int64 \n",
      " 3   PATIENT_TYPE          1048575 non-null  int64 \n",
      " 4   DATE_DIED             1048575 non-null  object\n",
      " 5   PNEUMONIA             1048575 non-null  int64 \n",
      " 6   AGE                   1048575 non-null  int64 \n",
      " 7   PREGNANT              1048575 non-null  int64 \n",
      " 8   DIABETES              1048575 non-null  int64 \n",
      " 9   COPD                  1048575 non-null  int64 \n",
      " 10  ASTHMA                1048575 non-null  int64 \n",
      " 11  INMSUPR               1048575 non-null  int64 \n",
      " 12  HYPERTENSION          1048575 non-null  int64 \n",
      " 13  OTHER_DISEASE         1048575 non-null  int64 \n",
      " 14  CARDIOVASCULAR        1048575 non-null  int64 \n",
      " 15  OBESITY               1048575 non-null  int64 \n",
      " 16  RENAL_CHRONIC         1048575 non-null  int64 \n",
      " 17  TOBACCO               1048575 non-null  int64 \n",
      " 18  CLASSIFICATION_FINAL  1048575 non-null  int64 \n",
      " 19  PATIENT_NO            1048575 non-null  int64 \n",
      "dtypes: int64(19), object(1)\n",
      "memory usage: 160.0+ MB\n"
     ]
    }
   ],
   "source": [
    "covidData_csv.info()"
   ]
  },
  {
   "cell_type": "markdown",
   "id": "ff95863d",
   "metadata": {},
   "source": [
    "Exploratory Data Analysis"
   ]
  },
  {
   "cell_type": "code",
   "execution_count": 16,
   "id": "77895b87",
   "metadata": {},
   "outputs": [],
   "source": [
    "values_of_covid = covidData_csv['CLASSIFICATION_FINAL'].value_counts()"
   ]
  },
  {
   "cell_type": "code",
   "execution_count": 17,
   "id": "9bd7bcbb",
   "metadata": {},
   "outputs": [
    {
     "data": {
      "text/plain": [
       "391979"
      ]
     },
     "execution_count": 17,
     "metadata": {},
     "output_type": "execute_result"
    }
   ],
   "source": [
    "values_of_covid[1]+values_of_covid[2] + values_of_covid[3]"
   ]
  },
  {
   "cell_type": "code",
   "execution_count": 18,
   "id": "fe048615",
   "metadata": {},
   "outputs": [
    {
     "data": {
      "text/plain": [
       "37.38206613737692"
      ]
     },
     "execution_count": 18,
     "metadata": {},
     "output_type": "execute_result"
    }
   ],
   "source": [
    "((values_of_covid[1]+values_of_covid[2] + values_of_covid[3])/len(covidData_csv))* 100"
   ]
  },
  {
   "cell_type": "markdown",
   "id": "57761b42",
   "metadata": {},
   "source": [
    "Percentage of people diagnosed with covid-19 is 37.38%"
   ]
  },
  {
   "cell_type": "code",
   "execution_count": 19,
   "id": "2c6c1766",
   "metadata": {},
   "outputs": [],
   "source": [
    "died_value = covidData_csv['DATE_DIED'].value_counts()"
   ]
  },
  {
   "cell_type": "code",
   "execution_count": 20,
   "id": "505c7e69",
   "metadata": {},
   "outputs": [
    {
     "data": {
      "text/plain": [
       "9999-99-99    971633\n",
       "06/07/2020      1000\n",
       "07/07/2020       996\n",
       "13/07/2020       990\n",
       "16/06/2020       979\n",
       "               ...  \n",
       "24/11/2020         1\n",
       "17/12/2020         1\n",
       "08/12/2020         1\n",
       "16/03/2021         1\n",
       "22/04/2021         1\n",
       "Name: DATE_DIED, Length: 401, dtype: int64"
      ]
     },
     "execution_count": 20,
     "metadata": {},
     "output_type": "execute_result"
    }
   ],
   "source": [
    "died_value"
   ]
  },
  {
   "cell_type": "code",
   "execution_count": 21,
   "id": "bbee27f6",
   "metadata": {},
   "outputs": [
    {
     "data": {
      "text/plain": [
       "7.337767923133775"
      ]
     },
     "execution_count": 21,
     "metadata": {},
     "output_type": "execute_result"
    }
   ],
   "source": [
    "(1-(died_value['9999-99-99'])/len(covidData_csv)) * 100"
   ]
  },
  {
   "cell_type": "markdown",
   "id": "19c3889e",
   "metadata": {},
   "source": [
    "This is done as the people who haven't died have the date value '9999-99-99' in the dataset "
   ]
  },
  {
   "cell_type": "markdown",
   "id": "38aa7efd",
   "metadata": {},
   "source": [
    "7.33% of all people in the dataset have died due to covid-19."
   ]
  },
  {
   "cell_type": "code",
   "execution_count": 36,
   "id": "c9069570",
   "metadata": {},
   "outputs": [],
   "source": [
    "classification_1_datedied = covidData_csv[covidData_csv['CLASSIFICATION_FINAL']==2]['DATE_DIED'].value_counts()"
   ]
  },
  {
   "cell_type": "markdown",
   "id": "3d236dea",
   "metadata": {},
   "source": [
    "All the patients with classification as 2 have died"
   ]
  },
  {
   "cell_type": "code",
   "execution_count": 24,
   "id": "a08b02be",
   "metadata": {},
   "outputs": [],
   "source": [
    "classification_3_datedied = covidData_csv[covidData_csv['CLASSIFICATION_FINAL']==3]['DATE_DIED'].value_counts()"
   ]
  },
  {
   "cell_type": "code",
   "execution_count": 25,
   "id": "bfe4e0d1",
   "metadata": {},
   "outputs": [],
   "source": [
    "classification_1_datedied = covidData_csv[covidData_csv['CLASSIFICATION_FINAL']==1]['DATE_DIED'].value_counts()"
   ]
  },
  {
   "cell_type": "code",
   "execution_count": 26,
   "id": "866c29cf",
   "metadata": {},
   "outputs": [
    {
     "data": {
      "text/plain": [
       "11.103360074409952"
      ]
     },
     "execution_count": 26,
     "metadata": {},
     "output_type": "execute_result"
    }
   ],
   "source": [
    "(1-(classification_1_datedied['9999-99-99']/len(covidData_csv[covidData_csv['CLASSIFICATION_FINAL']==1]['DATE_DIED'])))*100"
   ]
  },
  {
   "cell_type": "markdown",
   "id": "c71ff8a6",
   "metadata": {},
   "source": [
    "11.1% of patients with classficiation 1 have died"
   ]
  },
  {
   "cell_type": "code",
   "execution_count": 27,
   "id": "f30ecf41",
   "metadata": {},
   "outputs": [
    {
     "data": {
      "text/plain": [
       "13.480042041585527"
      ]
     },
     "execution_count": 27,
     "metadata": {},
     "output_type": "execute_result"
    }
   ],
   "source": [
    "(1-(classification_3_datedied['9999-99-99']/len(covidData_csv[covidData_csv['CLASSIFICATION_FINAL']==3]['DATE_DIED'])))*100"
   ]
  },
  {
   "cell_type": "markdown",
   "id": "c8e2d4bd",
   "metadata": {},
   "source": [
    "13.5% of patients with classification 3 have died"
   ]
  },
  {
   "cell_type": "code",
   "execution_count": 28,
   "id": "e4d1dd3f",
   "metadata": {},
   "outputs": [],
   "source": [
    "classification_4_datedied = covidData_csv[covidData_csv['CLASSIFICATION_FINAL']==4]['DATE_DIED'].value_counts()"
   ]
  },
  {
   "cell_type": "code",
   "execution_count": 29,
   "id": "b967522a",
   "metadata": {},
   "outputs": [
    {
     "data": {
      "text/plain": [
       "4.74055092889174"
      ]
     },
     "execution_count": 29,
     "metadata": {},
     "output_type": "execute_result"
    }
   ],
   "source": [
    "(1-(classification_4_datedied['9999-99-99']/len(covidData_csv[covidData_csv['CLASSIFICATION_FINAL']==4]['DATE_DIED'])))*100"
   ]
  },
  {
   "cell_type": "markdown",
   "id": "efee214c",
   "metadata": {},
   "source": [
    "4.7% of patients with classification 4 have died"
   ]
  },
  {
   "cell_type": "code",
   "execution_count": 30,
   "id": "5e666fdb",
   "metadata": {},
   "outputs": [],
   "source": [
    "classification_5_datedied = covidData_csv[covidData_csv['CLASSIFICATION_FINAL']==5]['DATE_DIED'].value_counts()"
   ]
  },
  {
   "cell_type": "code",
   "execution_count": 31,
   "id": "6d3ad83e",
   "metadata": {},
   "outputs": [
    {
     "data": {
      "text/plain": [
       "4.641447242344099"
      ]
     },
     "execution_count": 31,
     "metadata": {},
     "output_type": "execute_result"
    }
   ],
   "source": [
    "(1-(classification_5_datedied['9999-99-99']/len(covidData_csv[covidData_csv['CLASSIFICATION_FINAL']==5]['DATE_DIED'])))*100"
   ]
  },
  {
   "cell_type": "markdown",
   "id": "92c12f6f",
   "metadata": {},
   "source": [
    "4.6% of patients with classification 5 have died"
   ]
  },
  {
   "cell_type": "code",
   "execution_count": 32,
   "id": "b43ef813",
   "metadata": {},
   "outputs": [],
   "source": [
    "classification_6_datedied = covidData_csv[covidData_csv['CLASSIFICATION_FINAL']==6]['DATE_DIED'].value_counts()"
   ]
  },
  {
   "cell_type": "code",
   "execution_count": 33,
   "id": "71e0f95a",
   "metadata": {},
   "outputs": [
    {
     "data": {
      "text/plain": [
       "5.97191980208065"
      ]
     },
     "execution_count": 33,
     "metadata": {},
     "output_type": "execute_result"
    }
   ],
   "source": [
    "(1-(classification_6_datedied['9999-99-99']/len(covidData_csv[covidData_csv['CLASSIFICATION_FINAL']==6]['DATE_DIED'])))*100"
   ]
  },
  {
   "cell_type": "markdown",
   "id": "b6c17b65",
   "metadata": {},
   "source": [
    "6% of patients with classification 6 have died"
   ]
  },
  {
   "cell_type": "code",
   "execution_count": 34,
   "id": "f76633ce",
   "metadata": {},
   "outputs": [],
   "source": [
    "classification_7_datedied = covidData_csv[covidData_csv['CLASSIFICATION_FINAL']==7]['DATE_DIED'].value_counts()"
   ]
  },
  {
   "cell_type": "code",
   "execution_count": 35,
   "id": "47369580",
   "metadata": {},
   "outputs": [
    {
     "data": {
      "text/plain": [
       "2.743114672008007"
      ]
     },
     "execution_count": 35,
     "metadata": {},
     "output_type": "execute_result"
    }
   ],
   "source": [
    "(1-(classification_7_datedied['9999-99-99']/len(covidData_csv[covidData_csv['CLASSIFICATION_FINAL']==7]['DATE_DIED'])))*100"
   ]
  },
  {
   "cell_type": "markdown",
   "id": "d66a9b9e",
   "metadata": {},
   "source": [
    "2.74% of patients with classification 7 have died"
   ]
  },
  {
   "cell_type": "code",
   "execution_count": 39,
   "id": "02a012ff",
   "metadata": {},
   "outputs": [
    {
     "data": {
      "text/plain": [
       "array([ 1,  2,  3,  4,  5,  6,  7,  8,  9, 10, 11, 12, 13], dtype=int64)"
      ]
     },
     "execution_count": 39,
     "metadata": {},
     "output_type": "execute_result"
    }
   ],
   "source": [
    "covidData_csv['MEDICAL_UNIT'].unique()"
   ]
  },
  {
   "cell_type": "markdown",
   "id": "e07a56d9",
   "metadata": {},
   "source": [
    "There are 13 medical units in the dataset"
   ]
  },
  {
   "cell_type": "code",
   "execution_count": 41,
   "id": "a92b4e44",
   "metadata": {},
   "outputs": [
    {
     "name": "stdout",
     "output_type": "stream",
     "text": [
      "Counter({12: 602995, 4: 314405, 6: 40584, 9: 38116, 3: 19175, 8: 10399, 10: 7873, 5: 7244, 11: 5577, 13: 996, 7: 891, 2: 169, 1: 151})\n"
     ]
    }
   ],
   "source": [
    "from collections import Counter\n",
    "print(Counter(covidData_csv['MEDICAL_UNIT']))"
   ]
  },
  {
   "cell_type": "code",
   "execution_count": 46,
   "id": "5b4fc605",
   "metadata": {},
   "outputs": [
    {
     "data": {
      "text/plain": [
       "Counter({1: 5,\n",
       "         2: 5,\n",
       "         3: 1492,\n",
       "         4: 39905,\n",
       "         5: 607,\n",
       "         6: 5790,\n",
       "         7: 40,\n",
       "         8: 1171,\n",
       "         9: 1369,\n",
       "         10: 1468,\n",
       "         11: 409,\n",
       "         12: 24620,\n",
       "         13: 61})"
      ]
     },
     "execution_count": 46,
     "metadata": {},
     "output_type": "execute_result"
    }
   ],
   "source": [
    "Counter(covidData_csv[covidData_csv['DATE_DIED']!='9999-99-99']['MEDICAL_UNIT'])"
   ]
  },
  {
   "cell_type": "markdown",
   "id": "ba384075",
   "metadata": {},
   "source": [
    "Above are the number of people who died in each medical unit"
   ]
  },
  {
   "cell_type": "code",
   "execution_count": 57,
   "id": "bce03d1e",
   "metadata": {},
   "outputs": [
    {
     "data": {
      "text/plain": [
       "Text(0.5, 1.0, 'Ages of the people who contracted COVID')"
      ]
     },
     "execution_count": 57,
     "metadata": {},
     "output_type": "execute_result"
    },
    {
     "data": {
      "image/png": "[encoded data removed]",
      "text/plain": [
       "<Figure size 432x288 with 1 Axes>"
      ]
     },
     "metadata": {
      "needs_background": "light"
     },
     "output_type": "display_data"
    }
   ],
   "source": [
    "import matplotlib.pyplot as plt\n",
    "import numpy as np\n",
    "\n",
    "plt.hist(covidData_csv['AGE'])\n",
    "plt.xlabel('Age')\n",
    "plt.ylabel('Count')\n",
    "plt.title('Ages of the people who contracted COVID')"
   ]
  },
  {
   "cell_type": "code",
   "execution_count": 58,
   "id": "2d21971c",
   "metadata": {},
   "outputs": [
    {
     "data": {
      "text/plain": [
       "Text(0.5, 1.0, 'Ages of the people who died due to COVID')"
      ]
     },
     "execution_count": 58,
     "metadata": {},
     "output_type": "execute_result"
    },
    {
     "data": {
      "image/png": "[encoded data removed]",
      "text/plain": [
       "<Figure size 432x288 with 1 Axes>"
      ]
     },
     "metadata": {
      "needs_background": "light"
     },
     "output_type": "display_data"
    }
   ],
   "source": [
    "plt.hist(covidData_csv[covidData_csv['DATE_DIED']!='9999-99-99']['AGE'])\n",
    "plt.xlabel('Age')\n",
    "plt.ylabel('Count')\n",
    "plt.title('Ages of the people who died due to COVID')"
   ]
  },
  {
   "cell_type": "code",
   "execution_count": 72,
   "id": "d4a304ab",
   "metadata": {},
   "outputs": [],
   "source": [
    "all_count = covidData_csv.groupby('AGE',)['USMER'].count()"
   ]
  },
  {
   "cell_type": "code",
   "execution_count": 74,
   "id": "0d1defeb",
   "metadata": {},
   "outputs": [],
   "source": [
    "died_count=covidData_csv[covidData_csv['DATE_DIED']!='9999-99-99'].groupby('AGE',)['USMER'].count()"
   ]
  },
  {
   "cell_type": "code",
   "execution_count": 87,
   "id": "fbe20c0e",
   "metadata": {},
   "outputs": [
    {
     "data": {
      "text/plain": [
       "AGE\n",
       "83     0.394082\n",
       "87     0.387144\n",
       "80     0.386915\n",
       "84     0.384502\n",
       "81     0.381431\n",
       "         ...   \n",
       "116         NaN\n",
       "117         NaN\n",
       "118         NaN\n",
       "120         NaN\n",
       "121         NaN\n",
       "Name: USMER, Length: 121, dtype: float64"
      ]
     },
     "execution_count": 87,
     "metadata": {},
     "output_type": "execute_result"
    }
   ],
   "source": [
    "(died_count/all_count).sort_values(ascending=False)"
   ]
  },
  {
   "cell_type": "markdown",
   "id": "d0fb6d68",
   "metadata": {},
   "source": [
    "Most at risk COVID patients are people in their 80s."
   ]
  },
  {
   "cell_type": "code",
   "execution_count": 95,
   "id": "cec5d196",
   "metadata": {},
   "outputs": [
    {
     "data": {
      "text/plain": [
       "Text(0.5, 0, 'Age')"
      ]
     },
     "execution_count": 95,
     "metadata": {},
     "output_type": "execute_result"
    },
    {
     "data": {
      "image/png": "[encoded data removed]",
      "text/plain": [
       "<Figure size 432x288 with 1 Axes>"
      ]
     },
     "metadata": {
      "needs_background": "light"
     },
     "output_type": "display_data"
    }
   ],
   "source": [
    "plt.plot(died_count/all_count)\n",
    "plt.ylabel('Risk of Death')\n",
    "plt.xlabel('Age')"
   ]
  },
  {
   "cell_type": "code",
   "execution_count": null,
   "id": "bf130ac2",
   "metadata": {},
   "outputs": [],
   "source": []
  }
 ],
 "metadata": {
  "kernelspec": {
   "display_name": "Python 3 (ipykernel)",
   "language": "python",
   "name": "python3"
  },
  "language_info": {
   "codemirror_mode": {
    "name": "ipython",
    "version": 3
   },
   "file_extension": ".py",
   "mimetype": "text/x-python",
   "name": "python",
   "nbconvert_exporter": "python",
   "pygments_lexer": "ipython3",
   "version": "3.9.12"
  }
 },
 "nbformat": 4,
 "nbformat_minor": 5
}
